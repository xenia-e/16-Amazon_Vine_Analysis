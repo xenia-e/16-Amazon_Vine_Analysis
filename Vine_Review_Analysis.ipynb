{
  "nbformat": 4,
  "nbformat_minor": 0,
  "metadata": {
    "colab": {
      "name": "Vine_Review_Analysis.ipynb",
      "provenance": [],
      "collapsed_sections": []
    },
    "kernelspec": {
      "name": "python3",
      "display_name": "Python 3"
    },
    "language_info": {
      "name": "python"
    }
  },
  "cells": [
    {
      "cell_type": "code",
      "metadata": {
        "colab": {
          "base_uri": "https://localhost:8080/"
        },
        "id": "ySKid9XiWXgX",
        "outputId": "3d747c4b-903e-4de7-b70f-f9e0fd887ea8"
      },
      "source": [
        "import os\n",
        "# Find the latest version of spark 3.0  from http://www.apache.org/dist/spark/ and enter as the spark version\n",
        "# For example:\n",
        "# spark_version = 'spark-3.0.3'\n",
        "spark_version = 'spark-3.1.2'\n",
        "os.environ['SPARK_VERSION']=spark_version\n",
        "\n",
        "# Install Spark and Java\n",
        "!apt-get update\n",
        "!apt-get install openjdk-11-jdk-headless -qq > /dev/null\n",
        "!wget -q http://www.apache.org/dist/spark/$SPARK_VERSION/$SPARK_VERSION-bin-hadoop2.7.tgz\n",
        "!tar xf $SPARK_VERSION-bin-hadoop2.7.tgz\n",
        "!pip install -q findspark\n",
        "\n",
        "# Set Environment Variables\n",
        "import os\n",
        "os.environ[\"JAVA_HOME\"] = \"/usr/lib/jvm/java-11-openjdk-amd64\"\n",
        "os.environ[\"SPARK_HOME\"] = f\"/content/{spark_version}-bin-hadoop2.7\"\n",
        "\n",
        "# Start a SparkSession\n",
        "import findspark\n",
        "findspark.init()"
      ],
      "execution_count": 33,
      "outputs": [
        {
          "output_type": "stream",
          "name": "stdout",
          "text": [
            "\r0% [Working]\r            \rGet:1 http://security.ubuntu.com/ubuntu bionic-security InRelease [88.7 kB]\n",
            "Ign:2 https://developer.download.nvidia.com/compute/cuda/repos/ubuntu1804/x86_64  InRelease\n",
            "Ign:3 https://developer.download.nvidia.com/compute/machine-learning/repos/ubuntu1804/x86_64  InRelease\n",
            "Get:4 http://ppa.launchpad.net/c2d4u.team/c2d4u4.0+/ubuntu bionic InRelease [15.9 kB]\n",
            "Hit:5 https://developer.download.nvidia.com/compute/cuda/repos/ubuntu1804/x86_64  Release\n",
            "Hit:6 https://developer.download.nvidia.com/compute/machine-learning/repos/ubuntu1804/x86_64  Release\n",
            "Hit:7 http://archive.ubuntu.com/ubuntu bionic InRelease\n",
            "Get:8 http://archive.ubuntu.com/ubuntu bionic-updates InRelease [88.7 kB]\n",
            "Hit:9 https://cloud.r-project.org/bin/linux/ubuntu bionic-cran40/ InRelease\n",
            "Hit:10 http://ppa.launchpad.net/cran/libgit2/ubuntu bionic InRelease\n",
            "Get:11 http://archive.ubuntu.com/ubuntu bionic-backports InRelease [74.6 kB]\n",
            "Hit:12 http://ppa.launchpad.net/deadsnakes/ppa/ubuntu bionic InRelease\n",
            "Hit:14 http://ppa.launchpad.net/graphics-drivers/ppa/ubuntu bionic InRelease\n",
            "Get:16 http://ppa.launchpad.net/c2d4u.team/c2d4u4.0+/ubuntu bionic/main Sources [1,802 kB]\n",
            "Get:17 http://ppa.launchpad.net/c2d4u.team/c2d4u4.0+/ubuntu bionic/main amd64 Packages [922 kB]\n",
            "Fetched 2,993 kB in 3s (965 kB/s)\n",
            "Reading package lists... Done\n"
          ]
        }
      ]
    },
    {
      "cell_type": "code",
      "metadata": {
        "id": "7MKbTerQWqY4"
      },
      "source": [
        "from pyspark.sql import SparkSession\n",
        "spark = SparkSession.builder.appName(\"VineReview\").config(\"spark.driver.extraClassPath\",\"/content/postgresql-42.2.16.jar\").getOrCreate()\n"
      ],
      "execution_count": 34,
      "outputs": []
    },
    {
      "cell_type": "code",
      "metadata": {
        "id": "nLf4FsoqWw_l"
      },
      "source": [
        "# Read in data from S3 Buckets\n",
        "from pyspark import SparkFiles\n",
        "url =\"https://xeniae-vine.s3.amazonaws.com/vine_table.csv\"\n",
        "spark.sparkContext.addFile(url)\n",
        "vine_df = spark.read.csv(SparkFiles.get(\"vine_table.csv\"), sep=\",\", header=True, inferSchema=True)"
      ],
      "execution_count": 35,
      "outputs": []
    },
    {
      "cell_type": "code",
      "metadata": {
        "colab": {
          "base_uri": "https://localhost:8080/"
        },
        "id": "339F2IeUY52R",
        "outputId": "8ca53bb4-e76b-4cb6-9803-0f44be574b41"
      },
      "source": [
        "vine_df.show()"
      ],
      "execution_count": 36,
      "outputs": [
        {
          "output_type": "stream",
          "name": "stdout",
          "text": [
            "+--------------+-----------+-------------+-----------+----+-----------------+\n",
            "|     review_id|star_rating|helpful_votes|total_votes|vine|verified_purchase|\n",
            "+--------------+-----------+-------------+-----------+----+-----------------+\n",
            "| RMDCHWD0Y5OZ9|          3|            0|          1|   N|                N|\n",
            "| RZSL0BALIYUNU|          5|            0|          0|   N|                Y|\n",
            "| RIZR67JKUDBI0|          3|            0|          1|   N|                Y|\n",
            "|R27HL570VNL85F|          5|            0|          0|   N|                Y|\n",
            "|R34EBU9QDWJ1GD|          5|            0|          0|   N|                Y|\n",
            "|R1WCUI4Z1SIQEO|          5|            0|          0|   N|                N|\n",
            "| RL5LNO26GAVJ1|          2|            3|          4|   N|                Y|\n",
            "|R3GYQ5W8JHP8SB|          5|            0|          0|   N|                Y|\n",
            "|R30SHYQXGG5EYC|          5|            0|          0|   N|                Y|\n",
            "|R14YLXA56NP51I|          5|            1|          1|   N|                N|\n",
            "|R1ZH0HSH38IOTZ|          5|            0|          0|   N|                Y|\n",
            "|R3H53KLLC210XI|          4|            0|          0|   N|                Y|\n",
            "|R3OOR877NGA8JK|          3|            0|          0|   N|                Y|\n",
            "|R1BY7WKOZ3KMH0|          2|            0|          0|   N|                Y|\n",
            "| RXP1TFSWE8EG9|          5|            0|          0|   N|                Y|\n",
            "|R3J44DPP12OTLJ|          5|            0|          0|   N|                Y|\n",
            "| RFOV69SK0T676|          5|            0|          0|   N|                Y|\n",
            "|R2HUWDNW62FOL3|          1|            0|          0|   N|                Y|\n",
            "|R1KSU30XZGR452|          5|            0|          0|   N|                Y|\n",
            "|R2TZVLLTSHA07N|          5|            1|          1|   N|                Y|\n",
            "+--------------+-----------+-------------+-----------+----+-----------------+\n",
            "only showing top 20 rows\n",
            "\n"
          ]
        }
      ]
    },
    {
      "cell_type": "code",
      "metadata": {
        "colab": {
          "base_uri": "https://localhost:8080/"
        },
        "id": "IXMvGD_QY90A",
        "outputId": "805b9f84-50ec-463c-881b-c19ef60f5f13"
      },
      "source": [
        "#Load in a SQL function to use columns\n",
        "from pyspark.sql.functions import  col\n",
        "# filtered DF to create a DataFrame with 20 or more total votes\n",
        "vine_filtered = vine_df.filter(col('total_votes')>=20)\n",
        "vine_filtered.show()"
      ],
      "execution_count": 37,
      "outputs": [
        {
          "output_type": "stream",
          "name": "stdout",
          "text": [
            "+--------------+-----------+-------------+-----------+----+-----------------+\n",
            "|     review_id|star_rating|helpful_votes|total_votes|vine|verified_purchase|\n",
            "+--------------+-----------+-------------+-----------+----+-----------------+\n",
            "|R2243Y3OD8U6KQ|          5|           47|         61|   N|                N|\n",
            "|R2TGT0CDTCAAHW|          5|           21|         23|   N|                Y|\n",
            "| RX4D22YSXEF4P|          1|           37|         38|   N|                Y|\n",
            "|R3FL2NTLFUSPTQ|          5|           33|         37|   N|                N|\n",
            "|R3QTP3YNZXAPPF|          3|           23|         24|   N|                Y|\n",
            "|R36V6V42VN5AS5|          5|           34|         37|   N|                Y|\n",
            "|R27LZWE27BJPOB|          5|           22|         23|   N|                N|\n",
            "|  RMRD6SMF2AUQ|          3|            4|         21|   N|                N|\n",
            "| RMPCXKWX3T57Y|          1|            1|         73|   N|                N|\n",
            "|R1P7GJ0IN2BRNH|          5|           37|         37|   N|                Y|\n",
            "|R2R6JPF9KOD2HJ|          5|           19|         20|   N|                Y|\n",
            "|R3JM8Z4SP9N3H2|          1|            4|         23|   N|                N|\n",
            "|R2J0ZZGFXKM8KR|          2|           21|         22|   N|                Y|\n",
            "|R238ZSG6TSUBNX|          5|           27|         27|   N|                Y|\n",
            "|R37WGVXA94D62S|          2|            4|         20|   N|                Y|\n",
            "| RC6Y8GYIQZ8YU|          3|           72|         85|   N|                Y|\n",
            "| RFL3TJED8C240|          5|           13|         24|   N|                N|\n",
            "|R3D4P7A8Q1C70F|          5|           22|         27|   N|                Y|\n",
            "|R3PRNAQVQBB9M6|          1|           21|         30|   N|                Y|\n",
            "|R2NTTIW5KBKLYG|          5|           19|         20|   N|                N|\n",
            "+--------------+-----------+-------------+-----------+----+-----------------+\n",
            "only showing top 20 rows\n",
            "\n"
          ]
        }
      ]
    },
    {
      "cell_type": "code",
      "metadata": {
        "colab": {
          "base_uri": "https://localhost:8080/"
        },
        "id": "6ywktOfyZTxp",
        "outputId": "dd1b0f5b-c556-41b0-8044-eaed93436594"
      },
      "source": [
        "# filter DF where percentage of helpful_votes is equal to or greater than 50%\n",
        "vine_hv_filtered = vine_filtered.filter(col('helpful_votes')/col('total_votes') >= 0.5)\n",
        "vine_hv_filtered.show()"
      ],
      "execution_count": 51,
      "outputs": [
        {
          "output_type": "stream",
          "name": "stdout",
          "text": [
            "+--------------+-----------+-------------+-----------+----+-----------------+\n",
            "|     review_id|star_rating|helpful_votes|total_votes|vine|verified_purchase|\n",
            "+--------------+-----------+-------------+-----------+----+-----------------+\n",
            "|R2243Y3OD8U6KQ|          5|           47|         61|   N|                N|\n",
            "|R2TGT0CDTCAAHW|          5|           21|         23|   N|                Y|\n",
            "| RX4D22YSXEF4P|          1|           37|         38|   N|                Y|\n",
            "|R3FL2NTLFUSPTQ|          5|           33|         37|   N|                N|\n",
            "|R3QTP3YNZXAPPF|          3|           23|         24|   N|                Y|\n",
            "|R36V6V42VN5AS5|          5|           34|         37|   N|                Y|\n",
            "|R27LZWE27BJPOB|          5|           22|         23|   N|                N|\n",
            "|R1P7GJ0IN2BRNH|          5|           37|         37|   N|                Y|\n",
            "|R2R6JPF9KOD2HJ|          5|           19|         20|   N|                Y|\n",
            "|R2J0ZZGFXKM8KR|          2|           21|         22|   N|                Y|\n",
            "|R238ZSG6TSUBNX|          5|           27|         27|   N|                Y|\n",
            "| RC6Y8GYIQZ8YU|          3|           72|         85|   N|                Y|\n",
            "| RFL3TJED8C240|          5|           13|         24|   N|                N|\n",
            "|R3D4P7A8Q1C70F|          5|           22|         27|   N|                Y|\n",
            "|R3PRNAQVQBB9M6|          1|           21|         30|   N|                Y|\n",
            "|R2NTTIW5KBKLYG|          5|           19|         20|   N|                N|\n",
            "|R3JNDLZ3KACRLG|          5|           29|         33|   N|                N|\n",
            "|R1PVVYYY0Q1HZ0|          5|           21|         21|   N|                Y|\n",
            "|R1R9RU7JW0MFR2|          4|           20|         23|   Y|                N|\n",
            "|R1G9N0CW2982PA|          5|           21|         24|   N|                Y|\n",
            "+--------------+-----------+-------------+-----------+----+-----------------+\n",
            "only showing top 20 rows\n",
            "\n"
          ]
        }
      ]
    },
    {
      "cell_type": "code",
      "metadata": {
        "colab": {
          "base_uri": "https://localhost:8080/"
        },
        "id": "qoNEZkRyaCAk",
        "outputId": "f37fd69f-9d83-4720-a6c3-31390e45d4fd"
      },
      "source": [
        "# filter all Vine review \n",
        "vine_filtered_y = vine_hv_filtered.filter(col('vine') == 'Y')\n",
        "vine_filtered_y.show()"
      ],
      "execution_count": 52,
      "outputs": [
        {
          "output_type": "stream",
          "name": "stdout",
          "text": [
            "+--------------+-----------+-------------+-----------+----+-----------------+\n",
            "|     review_id|star_rating|helpful_votes|total_votes|vine|verified_purchase|\n",
            "+--------------+-----------+-------------+-----------+----+-----------------+\n",
            "|R1R9RU7JW0MFR2|          4|           20|         23|   Y|                N|\n",
            "|R19EFYNN3W8Q07|          5|           26|         32|   Y|                N|\n",
            "|R34DJ1R8AEU0SG|          5|           29|         35|   Y|                N|\n",
            "|R25P5CXK5L9RHF|          5|          146|        161|   Y|                N|\n",
            "|R2E9VZB3I4LSN5|          5|           55|         59|   Y|                N|\n",
            "| RKYLHZL7EPELX|          4|           19|         25|   Y|                N|\n",
            "|R1U13EKGQD3ZE6|          5|           22|         25|   Y|                N|\n",
            "| RYW05F1MUEF01|          5|           87|        102|   Y|                N|\n",
            "|R2SW4NXNO7HZJ5|          4|           28|         33|   Y|                N|\n",
            "|R2016NFLSUR97Y|          2|           26|         37|   Y|                N|\n",
            "| RFCV9QXJ3D79X|          3|           20|         22|   Y|                N|\n",
            "|R36779ZAY4ZT0Y|          3|           46|         50|   Y|                N|\n",
            "|R13PPTBWWV10Q6|          5|           19|         25|   Y|                N|\n",
            "|R2A3FFNJTDUBMV|          5|           20|         27|   Y|                N|\n",
            "|R3QQG4HUB214TM|          5|          111|        128|   Y|                N|\n",
            "|R3J9OSJNJB7KGM|          5|           70|         80|   Y|                N|\n",
            "| RIMYDUAAFXY2U|          5|           22|         23|   Y|                N|\n",
            "|R22CYBPLKWDK6F|          5|           47|         54|   Y|                N|\n",
            "|R1ETBDZ1LJ8CEL|          4|           28|         32|   Y|                N|\n",
            "|R28T5ISQ8AA7E5|          5|           40|         42|   Y|                N|\n",
            "+--------------+-----------+-------------+-----------+----+-----------------+\n",
            "only showing top 20 rows\n",
            "\n"
          ]
        }
      ]
    },
    {
      "cell_type": "code",
      "metadata": {
        "colab": {
          "base_uri": "https://localhost:8080/"
        },
        "id": "7doD9Ak6amSG",
        "outputId": "85dbab9d-610c-4857-aadf-b7af82a633a5"
      },
      "source": [
        "# filter all NON-Vine review \n",
        "vine_filtered_n = vine_hv_filtered.filter(col('vine') == 'N')\n",
        "vine_filtered_n.show()"
      ],
      "execution_count": 53,
      "outputs": [
        {
          "output_type": "stream",
          "name": "stdout",
          "text": [
            "+--------------+-----------+-------------+-----------+----+-----------------+\n",
            "|     review_id|star_rating|helpful_votes|total_votes|vine|verified_purchase|\n",
            "+--------------+-----------+-------------+-----------+----+-----------------+\n",
            "|R2243Y3OD8U6KQ|          5|           47|         61|   N|                N|\n",
            "|R2TGT0CDTCAAHW|          5|           21|         23|   N|                Y|\n",
            "| RX4D22YSXEF4P|          1|           37|         38|   N|                Y|\n",
            "|R3FL2NTLFUSPTQ|          5|           33|         37|   N|                N|\n",
            "|R3QTP3YNZXAPPF|          3|           23|         24|   N|                Y|\n",
            "|R36V6V42VN5AS5|          5|           34|         37|   N|                Y|\n",
            "|R27LZWE27BJPOB|          5|           22|         23|   N|                N|\n",
            "|R1P7GJ0IN2BRNH|          5|           37|         37|   N|                Y|\n",
            "|R2R6JPF9KOD2HJ|          5|           19|         20|   N|                Y|\n",
            "|R2J0ZZGFXKM8KR|          2|           21|         22|   N|                Y|\n",
            "|R238ZSG6TSUBNX|          5|           27|         27|   N|                Y|\n",
            "| RC6Y8GYIQZ8YU|          3|           72|         85|   N|                Y|\n",
            "| RFL3TJED8C240|          5|           13|         24|   N|                N|\n",
            "|R3D4P7A8Q1C70F|          5|           22|         27|   N|                Y|\n",
            "|R3PRNAQVQBB9M6|          1|           21|         30|   N|                Y|\n",
            "|R2NTTIW5KBKLYG|          5|           19|         20|   N|                N|\n",
            "|R3JNDLZ3KACRLG|          5|           29|         33|   N|                N|\n",
            "|R1PVVYYY0Q1HZ0|          5|           21|         21|   N|                Y|\n",
            "|R1G9N0CW2982PA|          5|           21|         24|   N|                Y|\n",
            "|R2N8ZFHQBWHMDL|          2|           26|         28|   N|                Y|\n",
            "+--------------+-----------+-------------+-----------+----+-----------------+\n",
            "only showing top 20 rows\n",
            "\n"
          ]
        }
      ]
    },
    {
      "cell_type": "code",
      "metadata": {
        "colab": {
          "base_uri": "https://localhost:8080/"
        },
        "id": "rhNbuvnauSoD",
        "outputId": "74a86f98-a442-4470-c7aa-c114262090c3"
      },
      "source": [
        "# total count of Vine and NON-Vine reviews\n",
        "count_y_reviews = vine_filtered_y.agg({\"review_id\":\"count\"}).collect().pop()['count(review_id)']\n",
        "count_n_reviews = vine_filtered_n.agg({\"review_id\":\"count\"}).collect().pop()['count(review_id)']\n",
        "print(f\"total number of Vine reviews: {count_y_reviews}, total number of NON-Vine reviews: {count_n_reviews}\")"
      ],
      "execution_count": 67,
      "outputs": [
        {
          "output_type": "stream",
          "name": "stdout",
          "text": [
            "total number of paid reviews: 60, total number of unpaid reviews: 14477\n"
          ]
        }
      ]
    },
    {
      "cell_type": "code",
      "metadata": {
        "colab": {
          "base_uri": "https://localhost:8080/"
        },
        "id": "DUhQ1RB5qXJi",
        "outputId": "9b267b2a-6a20-4c12-d7bd-807753d14fd1"
      },
      "source": [
        "# VINE total number of reviews, the number of 5-star reviews, and the percentage 5-star reviews\n",
        "vine_y = vine_filtered_y.groupby('star_rating').agg({'star_rating':'count'}).withColumnRenamed(\"count(star_rating)\", \"ratings_count\").sort(col('star_rating').desc())\n",
        "vine_y_percent = vine_y.withColumn(\"ratings_percentage\", (vine_y.ratings_count/count_y_reviews)*100)\n",
        "vine_y_percent.show()"
      ],
      "execution_count": 68,
      "outputs": [
        {
          "output_type": "stream",
          "name": "stdout",
          "text": [
            "+-----------+-------------+------------------+\n",
            "|star_rating|ratings_count|ratings_percentage|\n",
            "+-----------+-------------+------------------+\n",
            "|          5|           34|56.666666666666664|\n",
            "|          4|           16|26.666666666666668|\n",
            "|          3|            9|              15.0|\n",
            "|          2|            1|1.6666666666666667|\n",
            "+-----------+-------------+------------------+\n",
            "\n"
          ]
        }
      ]
    },
    {
      "cell_type": "code",
      "metadata": {
        "colab": {
          "base_uri": "https://localhost:8080/"
        },
        "id": "BkraiVvQseQG",
        "outputId": "ff2bebd8-620d-4a75-8101-c6d19bbb9fd3"
      },
      "source": [
        "#NON VINE total number of reviews, the number of 5-star reviews, and the percentage 5-star reviews\n",
        "vine_n = vine_filtered_n.groupby('star_rating').agg({'star_rating':'count'}).withColumnRenamed(\"count(star_rating)\", \"ratings_count\").sort(col('star_rating').desc())\n",
        "vine_n_percent = vine_n.withColumn(\"ratings_percentage\", (vine_n.ratings_count/count_n_reviews)*100)\n",
        "vine_n_percent.show()"
      ],
      "execution_count": 71,
      "outputs": [
        {
          "output_type": "stream",
          "name": "stdout",
          "text": [
            "+-----------+-------------+------------------+\n",
            "|star_rating|ratings_count|ratings_percentage|\n",
            "+-----------+-------------+------------------+\n",
            "|          5|         8212| 56.72445948746287|\n",
            "|          4|         2687|18.560475236582164|\n",
            "|          3|         1292| 8.924500932513642|\n",
            "|          2|          754| 5.208261380120191|\n",
            "|          1|         1532| 10.58230296332113|\n",
            "+-----------+-------------+------------------+\n",
            "\n"
          ]
        }
      ]
    },
    {
      "cell_type": "code",
      "metadata": {
        "id": "7GCbDllXshdO"
      },
      "source": [
        ""
      ],
      "execution_count": null,
      "outputs": []
    }
  ]
}